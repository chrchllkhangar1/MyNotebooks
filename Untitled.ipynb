{
 "cells": [
  {
   "cell_type": "code",
   "execution_count": 3,
   "metadata": {},
   "outputs": [],
   "source": [
    "import numpy as np\n",
    "def vision(rw, im):  #rw 6*3... im 6*2 \n",
    "    #make P matrix\n",
    "    zero = np.zeros(shape = (4,1), dtype = 'int')\n",
    "    one = np.ones(shape = (6,1), dtype = 'int')\n",
    "    P = np.append(rw, one, axis=1)\n",
    "    "
   ]
  },
  {
   "cell_type": "code",
   "execution_count": 7,
   "metadata": {},
   "outputs": [
    {
     "name": "stdout",
     "output_type": "stream",
     "text": [
      "[[1 1 1 1]\n",
      " [2 2 2 1]\n",
      " [3 3 3 1]\n",
      " [1 1 1 1]\n",
      " [2 2 2 1]\n",
      " [3 3 3 1]]\n"
     ]
    }
   ],
   "source": [
    "import numpy as np\n",
    "zero = np.zeros(shape = (4,1), dtype = 'int')\n",
    "# x= np.array([1,2,3])\n",
    "rw = np.array([[1,1,1], [2,2,2], [3,3,3], [1,1,1], [2,2,2], [3,3,3]])\n",
    "one = np.ones(shape = (6,1), dtype = 'int')\n",
    "\n",
    "P = np.append(rw, one, axis=1)\n",
    "\n",
    "# print(P)"
   ]
  },
  {
   "cell_type": "code",
   "execution_count": null,
   "metadata": {},
   "outputs": [],
   "source": []
  }
 ],
 "metadata": {
  "kernelspec": {
   "display_name": "Python 3",
   "language": "python",
   "name": "python3"
  },
  "language_info": {
   "codemirror_mode": {
    "name": "ipython",
    "version": 3
   },
   "file_extension": ".py",
   "mimetype": "text/x-python",
   "name": "python",
   "nbconvert_exporter": "python",
   "pygments_lexer": "ipython3",
   "version": "3.6.6"
  }
 },
 "nbformat": 4,
 "nbformat_minor": 2
}
