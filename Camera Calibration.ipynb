{
 "cells": [
  {
   "cell_type": "markdown",
   "metadata": {},
   "source": [
    "### Main funtion that takes in two matrics (3D and 2D) and return calculated params\n"
   ]
  },
  {
   "cell_type": "markdown",
   "metadata": {},
   "source": [
    "For starting create a random matrix"
   ]
  },
  {
   "cell_type": "code",
   "execution_count": 1,
   "metadata": {},
   "outputs": [],
   "source": [
    "import random "
   ]
  },
  {
   "cell_type": "markdown",
   "metadata": {},
   "source": [
    "Specify number of observation points "
   ]
  },
  {
   "cell_type": "code",
   "execution_count": 2,
   "metadata": {},
   "outputs": [],
   "source": [
    "n=6"
   ]
  },
  {
   "cell_type": "markdown",
   "metadata": {},
   "source": [
    "Create 3d matrix which represents world coordinate system and 2d matrix which represents camera coordinate system\n",
    "Note: We'll append 1 in world coordinates so dim will be (nx4) for 2d it will be (nx2)"
   ]
  },
  {
   "cell_type": "code",
   "execution_count": 55,
   "metadata": {},
   "outputs": [
    {
     "data": {
      "text/plain": [
       "array([[ 1,  5,  2,  1],\n",
       "       [ 6,  8,  4,  1],\n",
       "       [ 5,  9,  6,  1],\n",
       "       [ 2,  5,  7,  1],\n",
       "       [ 2, 10, 10,  1],\n",
       "       [ 2,  1,  1,  1]])"
      ]
     },
     "execution_count": 55,
     "metadata": {},
     "output_type": "execute_result"
    }
   ],
   "source": [
    "W = np.array([[random.randint(1,10) for i in range(3)]+[1] for j in range(n)])\n",
    "W"
   ]
  },
  {
   "cell_type": "code",
   "execution_count": 56,
   "metadata": {},
   "outputs": [
    {
     "data": {
      "text/plain": [
       "array([[243, 327],\n",
       "       [271, 311],\n",
       "       [385, 378],\n",
       "       [201, 222],\n",
       "       [390, 304],\n",
       "       [304, 278]])"
      ]
     },
     "execution_count": 56,
     "metadata": {},
     "output_type": "execute_result"
    }
   ],
   "source": [
    "C = np.array([[random.randint(200,400) for i in range(2)] for j in range(n)])\n",
    "C"
   ]
  },
  {
   "cell_type": "markdown",
   "metadata": {},
   "source": [
    "Now we will make the P matrix (from P.m = 0) which has dim (2nX12)"
   ]
  },
  {
   "cell_type": "code",
   "execution_count": 25,
   "metadata": {},
   "outputs": [],
   "source": [
    "import numpy as np"
   ]
  },
  {
   "cell_type": "code",
   "execution_count": 68,
   "metadata": {},
   "outputs": [
    {
     "data": {
      "text/plain": [
       "array([[0., 0., 0., 0., 0., 0., 0., 0., 0., 0., 0., 0.],\n",
       "       [0., 0., 0., 0., 0., 0., 0., 0., 0., 0., 0., 0.],\n",
       "       [0., 0., 0., 0., 0., 0., 0., 0., 0., 0., 0., 0.],\n",
       "       [0., 0., 0., 0., 0., 0., 0., 0., 0., 0., 0., 0.],\n",
       "       [0., 0., 0., 0., 0., 0., 0., 0., 0., 0., 0., 0.],\n",
       "       [0., 0., 0., 0., 0., 0., 0., 0., 0., 0., 0., 0.],\n",
       "       [0., 0., 0., 0., 0., 0., 0., 0., 0., 0., 0., 0.],\n",
       "       [0., 0., 0., 0., 0., 0., 0., 0., 0., 0., 0., 0.],\n",
       "       [0., 0., 0., 0., 0., 0., 0., 0., 0., 0., 0., 0.],\n",
       "       [0., 0., 0., 0., 0., 0., 0., 0., 0., 0., 0., 0.],\n",
       "       [0., 0., 0., 0., 0., 0., 0., 0., 0., 0., 0., 0.],\n",
       "       [0., 0., 0., 0., 0., 0., 0., 0., 0., 0., 0., 0.]])"
      ]
     },
     "execution_count": 68,
     "metadata": {},
     "output_type": "execute_result"
    }
   ],
   "source": [
    "P = np.zeros((2*n,12))\n",
    "P"
   ]
  },
  {
   "cell_type": "markdown",
   "metadata": {},
   "source": [
    "Now fill in the value according to the eqaution:    \n",
    "Pi x m1 + 0 x m2 -  X0 x Pi x m3 = 0    \n",
    "0 x m1 + Pi x m2 -  Y0 x Pi x m3 = 0"
   ]
  },
  {
   "cell_type": "code",
   "execution_count": 69,
   "metadata": {},
   "outputs": [
    {
     "data": {
      "text/plain": [
       "array([[ 1.000e+00,  5.000e+00,  2.000e+00,  1.000e+00,  0.000e+00,\n",
       "         0.000e+00,  0.000e+00,  0.000e+00, -2.430e+02, -1.215e+03,\n",
       "        -4.860e+02, -2.430e+02],\n",
       "       [ 0.000e+00,  0.000e+00,  0.000e+00,  0.000e+00,  1.000e+00,\n",
       "         5.000e+00,  2.000e+00,  1.000e+00, -3.270e+02, -1.635e+03,\n",
       "        -6.540e+02, -3.270e+02],\n",
       "       [ 6.000e+00,  8.000e+00,  4.000e+00,  1.000e+00,  0.000e+00,\n",
       "         0.000e+00,  0.000e+00,  0.000e+00, -1.626e+03, -2.168e+03,\n",
       "        -1.084e+03, -2.710e+02],\n",
       "       [ 0.000e+00,  0.000e+00,  0.000e+00,  0.000e+00,  6.000e+00,\n",
       "         8.000e+00,  4.000e+00,  1.000e+00, -1.866e+03, -2.488e+03,\n",
       "        -1.244e+03, -3.110e+02],\n",
       "       [ 5.000e+00,  9.000e+00,  6.000e+00,  1.000e+00,  0.000e+00,\n",
       "         0.000e+00,  0.000e+00,  0.000e+00, -1.925e+03, -3.465e+03,\n",
       "        -2.310e+03, -3.850e+02],\n",
       "       [ 0.000e+00,  0.000e+00,  0.000e+00,  0.000e+00,  5.000e+00,\n",
       "         9.000e+00,  6.000e+00,  1.000e+00, -1.890e+03, -3.402e+03,\n",
       "        -2.268e+03, -3.780e+02],\n",
       "       [ 2.000e+00,  5.000e+00,  7.000e+00,  1.000e+00,  0.000e+00,\n",
       "         0.000e+00,  0.000e+00,  0.000e+00, -4.020e+02, -1.005e+03,\n",
       "        -1.407e+03, -2.010e+02],\n",
       "       [ 0.000e+00,  0.000e+00,  0.000e+00,  0.000e+00,  2.000e+00,\n",
       "         5.000e+00,  7.000e+00,  1.000e+00, -4.440e+02, -1.110e+03,\n",
       "        -1.554e+03, -2.220e+02],\n",
       "       [ 2.000e+00,  1.000e+01,  1.000e+01,  1.000e+00,  0.000e+00,\n",
       "         0.000e+00,  0.000e+00,  0.000e+00, -7.800e+02, -3.900e+03,\n",
       "        -3.900e+03, -3.900e+02],\n",
       "       [ 0.000e+00,  0.000e+00,  0.000e+00,  0.000e+00,  2.000e+00,\n",
       "         1.000e+01,  1.000e+01,  1.000e+00, -6.080e+02, -3.040e+03,\n",
       "        -3.040e+03, -3.040e+02],\n",
       "       [ 2.000e+00,  1.000e+00,  1.000e+00,  1.000e+00,  0.000e+00,\n",
       "         0.000e+00,  0.000e+00,  0.000e+00, -6.080e+02, -3.040e+02,\n",
       "        -3.040e+02, -3.040e+02],\n",
       "       [ 0.000e+00,  0.000e+00,  0.000e+00,  0.000e+00,  2.000e+00,\n",
       "         1.000e+00,  1.000e+00,  1.000e+00, -5.560e+02, -2.780e+02,\n",
       "        -2.780e+02, -2.780e+02]])"
      ]
     },
     "execution_count": 69,
     "metadata": {},
     "output_type": "execute_result"
    }
   ],
   "source": [
    "for i in range(n):\n",
    "    P[i*2,0:4] = W[i]\n",
    "    P[i*2,8:12] = -C[i][0]*W[i]\n",
    "    P[i*2+1,4:8] = W[i]\n",
    "    P[i*2+1,8:12] = -C[i][1]*W[i]\n",
    "P"
   ]
  },
  {
   "cell_type": "markdown",
   "metadata": {},
   "source": [
    "Now we will go on calculating SVD for Pt x P  matrix. Then choosing the Eigenvector corresponding to minimum eigen value to obtain the solution P x m  = 0  "
   ]
  },
  {
   "cell_type": "code",
   "execution_count": 78,
   "metadata": {},
   "outputs": [
    {
     "data": {
      "text/plain": [
       "((12,), (12, 12))"
      ]
     },
     "execution_count": 78,
     "metadata": {},
     "output_type": "execute_result"
    }
   ],
   "source": [
    "u, s, vh = np.linalg.svd(P.T*P)\n",
    "s.shape,vh.shape"
   ]
  },
  {
   "cell_type": "code",
   "execution_count": 81,
   "metadata": {},
   "outputs": [
    {
     "data": {
      "text/plain": [
       "((12,),\n",
       " array([-3.74737459e-01,  4.72091052e-02,  2.53972456e-02, -4.59600292e-01,\n",
       "        -4.76151556e-02,  8.94968852e-04, -3.13399828e-02, -8.01380424e-01,\n",
       "        -2.62634254e-04, -9.13053192e-05,  1.59884975e-04, -2.19162991e-03]))"
      ]
     },
     "execution_count": 81,
     "metadata": {},
     "output_type": "execute_result"
    }
   ],
   "source": [
    "m = vh[np.argmin(s)]\n",
    "m.shape,m"
   ]
  },
  {
   "cell_type": "code",
   "execution_count": 82,
   "metadata": {},
   "outputs": [
    {
     "data": {
      "text/plain": [
       "((3, 4), array([[-3.74737459e-01,  4.72091052e-02,  2.53972456e-02,\n",
       "         -4.59600292e-01],\n",
       "        [-4.76151556e-02,  8.94968852e-04, -3.13399828e-02,\n",
       "         -8.01380424e-01],\n",
       "        [-2.62634254e-04, -9.13053192e-05,  1.59884975e-04,\n",
       "         -2.19162991e-03]]))"
      ]
     },
     "execution_count": 82,
     "metadata": {},
     "output_type": "execute_result"
    }
   ],
   "source": [
    "m = m.reshape((3,4))\n",
    "m.shape,m"
   ]
  },
  {
   "cell_type": "code",
   "execution_count": 92,
   "metadata": {},
   "outputs": [
    {
     "data": {
      "text/plain": [
       "(array([-0.37473746,  0.04720911,  0.02539725]),\n",
       " array([-0.04761516,  0.00089497, -0.03133998]),\n",
       " array([-2.62634254e-04, -9.13053192e-05,  1.59884975e-04]),\n",
       " array([-0.45960029, -0.80138042, -0.00219163]))"
      ]
     },
     "execution_count": 92,
     "metadata": {},
     "output_type": "execute_result"
    }
   ],
   "source": [
    "a1 = m[0,0:3]\n",
    "a2 = m[1,0:3]\n",
    "a3 = m[2,0:3]\n",
    "B = m[:,-1]\n",
    "a1,a2,a3,B"
   ]
  },
  {
   "cell_type": "code",
   "execution_count": 95,
   "metadata": {},
   "outputs": [],
   "source": [
    "ro = 1/np.linalg.norm(a3)\n",
    "r3 = ro*a3\n",
    "X0 = ro*ro*np.dot(a1, a3);\n",
    "Y0 = ro*ro*np.dot(a2, a3);\n",
    "alpha = ro*ro*np.linalg.norm(np.cross(a1, a3));\n",
    "beta = ro*ro*np.linalg.norm(np.cross(a2, a3));"
   ]
  },
  {
   "cell_type": "code",
   "execution_count": 96,
   "metadata": {},
   "outputs": [
    {
     "data": {
      "text/plain": [
       "(3117.7526826214853,\n",
       " array([-0.81882865, -0.2846674 ,  0.49848181]),\n",
       " 954.2410194116792,\n",
       " 72.0558592078065,\n",
       " 694.5308420735313,\n",
       " 162.48422622005043)"
      ]
     },
     "execution_count": 96,
     "metadata": {},
     "output_type": "execute_result"
    }
   ],
   "source": [
    "ro,r3,X0,Y0,alpha,beta"
   ]
  },
  {
   "cell_type": "code",
   "execution_count": 98,
   "metadata": {},
   "outputs": [],
   "source": [
    "cosTheta = -np.dot(np.cross(a1,a3),np.cross(a2,a3))/(np.linalg.norm(np.cross(a1,a3))*np.linalg.norm(np.cross(a2,a3)))\n",
    "sinTheta = (1-cosTheta**2)**(1/2)\n",
    "r1 = np.cross(a2,a3)/np.linalg.norm(np.cross(a2,a3))\n",
    "r2 = np.cross(r3,r1)"
   ]
  },
  {
   "cell_type": "code",
   "execution_count": 99,
   "metadata": {},
   "outputs": [
    {
     "data": {
      "text/plain": [
       "(-0.8627149906362609,\n",
       " 0.5056904635559941,\n",
       " array([-0.16262522,  0.94783826,  0.27414535]),\n",
       " array([-0.55052038,  0.14341236, -0.82241122]))"
      ]
     },
     "execution_count": 99,
     "metadata": {},
     "output_type": "execute_result"
    }
   ],
   "source": [
    "cosTheta,sinTheta,r1,r2"
   ]
  },
  {
   "cell_type": "markdown",
   "metadata": {},
   "source": [
    "### After Calculation of parameters, We double check by calculating 2d points from 3D and compare. "
   ]
  },
  {
   "cell_type": "code",
   "execution_count": null,
   "metadata": {},
   "outputs": [],
   "source": []
  }
 ],
 "metadata": {
  "kernelspec": {
   "display_name": "Python 3",
   "language": "python",
   "name": "python3"
  },
  "language_info": {
   "codemirror_mode": {
    "name": "ipython",
    "version": 3
   },
   "file_extension": ".py",
   "mimetype": "text/x-python",
   "name": "python",
   "nbconvert_exporter": "python",
   "pygments_lexer": "ipython3",
   "version": "3.6.6"
  }
 },
 "nbformat": 4,
 "nbformat_minor": 2
}
